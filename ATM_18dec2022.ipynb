{
 "cells": [
  {
   "cell_type": "markdown",
   "id": "b253e67f",
   "metadata": {},
   "source": [
    "Create a ```user```\n",
    "\n",
    "**User** Dictionary \n",
    "Must Have :\n",
    "   - Name\n",
    "    - Pin\n",
    "    - Balance\n",
    "    - Phone Number\n",
    "    - StatusOfAccount\n",
    "        - Inactive\n",
    "        - Active\n",
    "        - Blocked\n",
    "\n",
    "\n",
    "**User_list** List\n",
    "    - List of User dictionary\n",
    "\n",
    "Operations on User_list:\n",
    "    - Add\n",
    "    - Block user\n",
    "    - Change Balance\n",
    "\n",
    "ATM Functions:\n",
    "  - Login\n",
    "  - Show balance\n",
    "  - Change PIN\n",
    "  - Deposit/Withdrawl\n",
    "  "
   ]
  },
  {
   "cell_type": "code",
   "execution_count": 19,
   "id": "5da176e8",
   "metadata": {
    "scrolled": true
   },
   "outputs": [],
   "source": [
    "import enum as en\n",
    "import locale\n",
    "\n",
    "locale.setlocale(locale.LC_MONETARY,'hi_IN.ISCII-DEV')\n",
    "# print(locale.currency(1234577.67, grouping=True))\n",
    "\n",
    "\n",
    "class UserStatus(en.Enum):\n",
    "    Blocked = 1\n",
    "    Inactive = 2\n",
    "    Active = 3\n",
    "    \n",
    "class User:\n",
    "\n",
    "    def __init__(self,name,pin,balance,phone_number,user_status):\n",
    "        self.name=name\n",
    "        self.pin=pin\n",
    "        self.balance= balance\n",
    "        self.phone_number=phone_number\n",
    "        self.user_status=user_status\n",
    "        \n",
    "    def __str__(self):\n",
    "        return f'----{self.name}-----\\n{locale.currency(self.balance, symbol=True, grouping = True)}\\n{self.user_status}\\n---------\\n'\n",
    "\n",
    "#     def __repr__(self):\n",
    "#         return str(self)\n",
    "    \n",
    "user_list =[]\n"
   ]
  },
  {
   "cell_type": "markdown",
   "id": "a4c66190",
   "metadata": {},
   "source": [
    "> **check terminal for `locale -a` to get the supported setting for a particular locale**"
   ]
  },
  {
   "cell_type": "markdown",
   "id": "734e7dec",
   "metadata": {},
   "source": [
    "> **locale.currency(0, symbol=True, grouping = True) ---> setting for Indian Currency**"
   ]
  },
  {
   "cell_type": "code",
   "execution_count": 16,
   "id": "f3e2b8e2",
   "metadata": {},
   "outputs": [],
   "source": [
    "kimberly = User('Kimberly','4321',1000000,'9876543210',UserStatus.Active)\n",
    "john     = User('John','4322',1005000,'9876543810',UserStatus.Active)\n",
    "lara     = User('Lara','4341',1000030,'9874543210',UserStatus.Active)\n",
    "tom      = User('Tom','4393',1238923,'7766543731',UserStatus.Active)"
   ]
  },
  {
   "cell_type": "code",
   "execution_count": 21,
   "id": "a413642f",
   "metadata": {},
   "outputs": [],
   "source": [
    "user_list.extend([kimberly,john,lara,tom])"
   ]
  },
  {
   "cell_type": "code",
   "execution_count": 22,
   "id": "232607bd",
   "metadata": {},
   "outputs": [
    {
     "name": "stdout",
     "output_type": "stream",
     "text": [
      "----Kimberly-----\n",
      "ÏÞÈ¬ 10,00,000.00\n",
      "UserStatus.Active\n",
      "---------\n",
      " ----John-----\n",
      "ÏÞÈ¬ 10,05,000.00\n",
      "UserStatus.Active\n",
      "---------\n",
      " ----Lara-----\n",
      "ÏÞÈ¬ 10,00,030.00\n",
      "UserStatus.Active\n",
      "---------\n",
      " ----Tom-----\n",
      "ÏÞÈ¬ 12,38,923.00\n",
      "UserStatus.Active\n",
      "---------\n",
      "\n"
     ]
    }
   ],
   "source": [
    "print(*user_list)"
   ]
  },
  {
   "cell_type": "markdown",
   "id": "017533f0",
   "metadata": {},
   "source": [
    "> print all the elements in a list ----> print(*list_name)\n",
    "https://www.geeksforgeeks.org/print-lists-in-python-4-different-ways/\n"
   ]
  },
  {
   "cell_type": "markdown",
   "id": "5fe9180f",
   "metadata": {},
   "source": [
    "> __str__ ----> makes a class readable\n",
    "> __repr__ -----> mainly useful for debugging purpose"
   ]
  },
  {
   "cell_type": "code",
   "execution_count": null,
   "id": "80fd2691",
   "metadata": {},
   "outputs": [],
   "source": []
  }
 ],
 "metadata": {
  "kernelspec": {
   "display_name": "Python 3 (ipykernel)",
   "language": "python",
   "name": "python3"
  },
  "language_info": {
   "codemirror_mode": {
    "name": "ipython",
    "version": 3
   },
   "file_extension": ".py",
   "mimetype": "text/x-python",
   "name": "python",
   "nbconvert_exporter": "python",
   "pygments_lexer": "ipython3",
   "version": "3.9.12"
  }
 },
 "nbformat": 4,
 "nbformat_minor": 5
}
