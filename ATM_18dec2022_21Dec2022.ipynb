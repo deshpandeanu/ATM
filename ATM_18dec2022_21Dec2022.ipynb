{
 "cells": [
  {
   "cell_type": "markdown",
   "id": "b253e67f",
   "metadata": {},
   "source": [
    "Create a ```user```\n",
    "\n",
    "**User** Dictionary \n",
    "Must Have :\n",
    "   - Name\n",
    "    - Pin\n",
    "    - Balance\n",
    "    - Phone Number\n",
    "    - StatusOfAccount\n",
    "        - Inactive\n",
    "        - Active\n",
    "        - Blocked\n",
    "\n",
    "\n",
    "**User_list** List\n",
    "    - List of User dictionary\n",
    "\n",
    "Operations on User_list:\n",
    "    - Add\n",
    "    - Block user\n",
    "    - Change Balance\n",
    "\n",
    "ATM Functions:\n",
    "  - Login\n",
    "  - Show balance\n",
    "  - Change PIN\n",
    "  - Deposit/Withdrawl\n",
    "  "
   ]
  },
  {
   "cell_type": "code",
   "execution_count": 1,
   "id": "5da176e8",
   "metadata": {
    "scrolled": true
   },
   "outputs": [],
   "source": [
    "import enum as en\n",
    "import locale\n",
    "import numpy as np\n",
    "\n",
    "locale.setlocale(locale.LC_MONETARY,'hi_IN.ISCII-DEV')\n",
    "# print(locale.currency(1234577.67, grouping=True))\n",
    "\n",
    "\n",
    "\n",
    "class UserStatus(en.Enum):\n",
    "    Blocked = 1\n",
    "    Inactive = 2\n",
    "    Active = 3\n",
    "    \n",
    "class User:\n",
    "\n",
    "    def __init__(self,name,pin,balance,phone_number,user_status):\n",
    "        self.name=name\n",
    "        self.pin=pin\n",
    "        self.balance= balance\n",
    "        self.phone_number=phone_number\n",
    "        self.user_status=user_status\n",
    "        \n",
    "    def __str__(self):\n",
    "        return f'----{self.name}-----\\n{locale.currency(self.balance, symbol=True, grouping = True)}\\n{self.user_status}\\n---------\\n'\n",
    "\n",
    "#     def __repr__(self):\n",
    "#         return str(self)\n",
    "    \n",
    "user_list = []"
   ]
  },
  {
   "cell_type": "markdown",
   "id": "a4c66190",
   "metadata": {},
   "source": [
    "> **check terminal for `locale -a` to get the supported setting for a particular locale**"
   ]
  },
  {
   "cell_type": "markdown",
   "id": "734e7dec",
   "metadata": {},
   "source": [
    "> **locale.currency(0, symbol=True, grouping = True) ---> setting for Indian Currency**"
   ]
  },
  {
   "cell_type": "code",
   "execution_count": 2,
   "id": "f3e2b8e2",
   "metadata": {},
   "outputs": [],
   "source": [
    "kimberly = User('Kimberly','4321',1000000,'9876543210',UserStatus.Active)\n",
    "john     = User('John','4322',1005000,'9876543810',UserStatus.Active)\n",
    "lara     = User('Lara','4341',1000030,'9874543210',UserStatus.Active)\n",
    "tom      = User('Tom','4393',1238923,'7766543731',UserStatus.Active)"
   ]
  },
  {
   "cell_type": "code",
   "execution_count": 3,
   "id": "a413642f",
   "metadata": {},
   "outputs": [
    {
     "name": "stdout",
     "output_type": "stream",
     "text": [
      "4321\n"
     ]
    }
   ],
   "source": [
    "user_list.extend([kimberly,john,lara,tom])\n",
    "print(kimberly.pin)"
   ]
  },
  {
   "cell_type": "code",
   "execution_count": 4,
   "id": "232607bd",
   "metadata": {},
   "outputs": [
    {
     "name": "stdout",
     "output_type": "stream",
     "text": [
      "----Kimberly-----\n",
      "ÏÞÈ¬ 10,00,000.00\n",
      "UserStatus.Active\n",
      "---------\n",
      " ----John-----\n",
      "ÏÞÈ¬ 10,05,000.00\n",
      "UserStatus.Active\n",
      "---------\n",
      " ----Lara-----\n",
      "ÏÞÈ¬ 10,00,030.00\n",
      "UserStatus.Active\n",
      "---------\n",
      " ----Tom-----\n",
      "ÏÞÈ¬ 12,38,923.00\n",
      "UserStatus.Active\n",
      "---------\n",
      "\n"
     ]
    }
   ],
   "source": [
    "print(*user_list)"
   ]
  },
  {
   "cell_type": "markdown",
   "id": "017533f0",
   "metadata": {},
   "source": [
    "> print all the elements in a list ----> print(*list_name)\n",
    "https://www.geeksforgeeks.org/print-lists-in-python-4-different-ways/\n"
   ]
  },
  {
   "cell_type": "markdown",
   "id": "5fe9180f",
   "metadata": {},
   "source": [
    "> __str__ ----> makes a class readable\n",
    "> __repr__ -----> mainly useful for debugging purpose"
   ]
  },
  {
   "cell_type": "code",
   "execution_count": null,
   "id": "ca0cf56e",
   "metadata": {},
   "outputs": [],
   "source": [
    "numpy_user_list = np.array(user_list,dtype=object)\n",
    "print(numpy_user_list)\n",
    "print(numpy_user_list[0])\n",
    "print(numpy_user_list.ndim)"
   ]
  },
  {
   "cell_type": "markdown",
   "id": "7fcd1dc1",
   "metadata": {},
   "source": [
    "# ---------------------------------------------------------------------------"
   ]
  },
  {
   "cell_type": "code",
   "execution_count": 6,
   "id": "a11d8644",
   "metadata": {},
   "outputs": [
    {
     "name": "stdout",
     "output_type": "stream",
     "text": [
      "Please enter your user name:\n",
      "Kimberly\n",
      "Hi Kimberly! Please enter your PIN to view the menu4321\n",
      "1 - View Balance\n",
      " 2- Cash Withdraw \n",
      " 3- Cash Deposit \n",
      " 4-Change Pin \n",
      " 5 -Exit \n",
      "\n",
      "Please enter the option number from the menu1\n",
      "Your total balance is :  ÏÞÈ¬ 10,00,000.00\n",
      "1 - View Balance\n",
      " 2- Cash Withdraw \n",
      " 3- Cash Deposit \n",
      " 4-Change Pin \n",
      " 5 -Exit \n",
      "\n",
      "Please enter the option number from the menu1\n",
      "Your total balance is :  ÏÞÈ¬ 10,00,000.00\n",
      "1 - View Balance\n",
      " 2- Cash Withdraw \n",
      " 3- Cash Deposit \n",
      " 4-Change Pin \n",
      " 5 -Exit \n",
      "\n",
      "Please enter the option number from the menu2\n",
      "Enter the amount to be withdrawn5000\n",
      "Cash Withdrawn ÏÞÈ¬ 5,000.00, your balance is ÏÞÈ¬ 9,95,000.00\n",
      "1 - View Balance\n",
      " 2- Cash Withdraw \n",
      " 3- Cash Deposit \n",
      " 4-Change Pin \n",
      " 5 -Exit \n",
      "\n",
      "Please enter the option number from the menu5\n",
      "Thank you for visiting\n"
     ]
    }
   ],
   "source": [
    "\n",
    "def atm_Operations(option,name,pin):\n",
    "    for user in user_list:\n",
    "        if name == user.name:\n",
    "            userexists=True\n",
    "            if userexists:\n",
    "                if option ==1:\n",
    "                    print('Your total balance is : ',locale.currency(user.balance, symbol=True, grouping = True))\n",
    "                elif option==2:\n",
    "                    cashWithdrawl = int(input('Enter the amount to be withdrawn'))\n",
    "                    if cashWithdrawl < user.balance:\n",
    "                        user.balance = user.balance - cashWithdrawl\n",
    "                        print(f'Cash Withdrawn {locale.currency(cashWithdrawl, symbol=True, grouping = True)}, your balance is {locale.currency(user.balance, symbol=True, grouping = True)}')\n",
    "                    else:\n",
    "                        print('Insufficient Balance. Can not dispense cash')\n",
    "                elif option ==3:\n",
    "                    cashDeposit = int(input('Enter the amount to be deposited'))\n",
    "                    if cashDeposit>0:\n",
    "                        user.balance = user.balance+cashDeposit\n",
    "                        print(f'Cash deposited {locale.currency(cashDeposit, symbol=True, grouping = True)}. your updated balance is {locale.currency(user.balance, symbol=True, grouping = True)}')\n",
    "                    else:\n",
    "                        print('Enter valid amount')\n",
    "                elif option ==4:\n",
    "                    if pin ==user.pin:\n",
    "                        updatePin = str(input('Enter the PIN to be updated'))\n",
    "                        user.pin = updatePin\n",
    "                        print(f'{name}, your PIN is succesfully updated')\n",
    "                    else:\n",
    "                        print('Pin not updated')\n",
    "                elif option ==5:\n",
    "                    print('Thank you for visiting')\n",
    "                    break\n",
    "            else:\n",
    "                print('Incorrect Response')\n",
    "\n",
    "\n",
    "# print('----Welcome to ATM:-----')\n",
    "\n",
    "input_username=input('Please enter your user name:\\n')\n",
    "for user in user_list:\n",
    "    if input_username in user.name:\n",
    "        user_exists = True\n",
    "        if user_exists:\n",
    "            input_userpin =str(input(f'Hi {input_username}! Please enter your PIN to view the menu'))\n",
    "            if input_userpin == user.pin:\n",
    "                pin_correct = True\n",
    "                input_userchoice = 0\n",
    "                while(input_userchoice != 5):\n",
    "                    print('1 - View Balance\\n 2- Cash Withdraw \\n 3- Cash Deposit \\n 4-Change Pin \\n 5 -Exit \\n')\n",
    "                    input_userchoice = int(input('Please enter the option number from the menu'))\n",
    "                    atm_Operations(input_userchoice,input_username,input_userpin)\n",
    "        else:\n",
    "            print('User does not exist')\n",
    "\n",
    "\n"
   ]
  },
  {
   "cell_type": "code",
   "execution_count": null,
   "id": "678bb74c",
   "metadata": {},
   "outputs": [],
   "source": []
  },
  {
   "cell_type": "code",
   "execution_count": null,
   "id": "15e1060a",
   "metadata": {},
   "outputs": [],
   "source": []
  }
 ],
 "metadata": {
  "kernelspec": {
   "display_name": "Python 3 (ipykernel)",
   "language": "python",
   "name": "python3"
  },
  "language_info": {
   "codemirror_mode": {
    "name": "ipython",
    "version": 3
   },
   "file_extension": ".py",
   "mimetype": "text/x-python",
   "name": "python",
   "nbconvert_exporter": "python",
   "pygments_lexer": "ipython3",
   "version": "3.9.12"
  }
 },
 "nbformat": 4,
 "nbformat_minor": 5
}
